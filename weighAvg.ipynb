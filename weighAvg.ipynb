{
 "cells": [
  {
   "cell_type": "markdown",
   "id": "0cce4ae9-d78a-4cac-a364-9fc96bc9e953",
   "metadata": {},
   "source": [
    "# Weighted Average Method Defuzzification"
   ]
  },
  {
   "cell_type": "code",
   "execution_count": null,
   "id": "73d74ca7-db48-492b-9fe7-ababa8ee0df1",
   "metadata": {},
   "outputs": [
    {
     "name": "stdin",
     "output_type": "stream",
     "text": [
      "Enter the number of fuzzy sets:\n",
      " 3\n"
     ]
    }
   ],
   "source": [
    "n = int(input(\"Enter the number of fuzzy sets:\\n\"))"
   ]
  },
  {
   "cell_type": "code",
   "execution_count": null,
   "id": "fe509e42-70bb-4a81-9db6-acb05f051aa3",
   "metadata": {},
   "outputs": [],
   "source": [
    "mul = 0.0\n",
    "degrees = 0.0"
   ]
  },
  {
   "cell_type": "code",
   "execution_count": null,
   "id": "a1a82d1b-04a4-454a-b8c8-e8c5254ffd37",
   "metadata": {},
   "outputs": [],
   "source": [
    "def yValue(x_val, x2, y2, x1, y1):\n",
    "    slope = float(y2-y1)/(x2-x1)\n",
    "    c = y2 - x2*slope\n",
    "    return (x_val*slope + c)"
   ]
  },
  {
   "cell_type": "code",
   "execution_count": 9,
   "id": "62fd62fc-378a-4cd4-a145-076d6d84ada9",
   "metadata": {},
   "outputs": [
    {
     "name": "stdin",
     "output_type": "stream",
     "text": [
      "Enter the elements of set 1(space separated):\n",
      " 0 1 2 3 4 5\n",
      "Enter the degrees of set 1(space separated):\n",
      " 0 0.3 0.3 0.3 0.3 0\n",
      "Enter the elements of set 2(space separated):\n",
      " 3 4 5 6 7\n",
      "Enter the degrees of set 2(space separated):\n",
      " 0 0.5 0.5 0.5 0\n",
      "Enter the elements of set 3(space separated):\n",
      " 5 6 7 8\n",
      "Enter the degrees of set 3(space separated):\n",
      " 0 1 1 0\n"
     ]
    }
   ],
   "source": [
    "for i in range(0, n):\n",
    "    e = [float(i) for i in input(f\"Enter the elements of set {i+1}(space separated):\\n\").split(\" \")]\n",
    "    d = [float(i) for i in input(f\"Enter the degrees of set {i+1}(space separated):\\n\").split(\" \")]\n",
    "    assert(len(e) == len(d))\n",
    "    avg = sum(e)/len(e)\n",
    "    for i in range(0, len(e)-1):\n",
    "        if e[i] <= avg <= e[i+1]:\n",
    "            yVal = yValue(avg, e[i+1], d[i+1], e[i], d[i])\n",
    "    mul += (avg * yVal)\n",
    "    degrees += yVal"
   ]
  },
  {
   "cell_type": "code",
   "execution_count": 10,
   "id": "a740f815-9849-4010-82f2-7d60a006f2f4",
   "metadata": {},
   "outputs": [
    {
     "name": "stdout",
     "output_type": "stream",
     "text": [
      "Defuzzified value --->  5.416666666666667\n"
     ]
    }
   ],
   "source": [
    "print(\"Defuzzified value ---> \", mul/degrees)"
   ]
  }
 ],
 "metadata": {
  "kernelspec": {
   "display_name": "Python 3 (ipykernel)",
   "language": "python",
   "name": "python3"
  },
  "language_info": {
   "codemirror_mode": {
    "name": "ipython",
    "version": 3
   },
   "file_extension": ".py",
   "mimetype": "text/x-python",
   "name": "python",
   "nbconvert_exporter": "python",
   "pygments_lexer": "ipython3",
   "version": "3.9.0"
  }
 },
 "nbformat": 4,
 "nbformat_minor": 5
}
