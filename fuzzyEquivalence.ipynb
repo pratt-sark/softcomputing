{
 "cells": [
  {
   "cell_type": "markdown",
   "id": "71b0c1e0-3f2a-4c24-a90a-79afe21c95ad",
   "metadata": {},
   "source": [
    "# Fuzzy Equivalence Relation Check "
   ]
  },
  {
   "cell_type": "code",
   "execution_count": 141,
   "id": "1bef08a9-f067-40b3-847c-d50c3407e95a",
   "metadata": {},
   "outputs": [],
   "source": [
    "#All imports to be done here\n",
    "import sys"
   ]
  },
  {
   "cell_type": "markdown",
   "id": "ba147888-c911-4bf9-a314-3f02213781d3",
   "metadata": {},
   "source": [
    "### Accept the order from users"
   ]
  },
  {
   "cell_type": "code",
   "execution_count": 142,
   "id": "b53d11fd-761b-4f11-8641-9d9f590916ca",
   "metadata": {},
   "outputs": [
    {
     "name": "stdin",
     "output_type": "stream",
     "text": [
      "Enter the order of the relation A(xRx):  3,3\n"
     ]
    }
   ],
   "source": [
    "r,c = input(\"Enter the order of the relation A(xRx): \").split(',')"
   ]
  },
  {
   "cell_type": "markdown",
   "id": "ebaf88d0-0a48-4a16-b324-d81df63375a6",
   "metadata": {},
   "source": [
    "### Printing order values so that user can check them"
   ]
  },
  {
   "cell_type": "code",
   "execution_count": 143,
   "id": "73fe3977-3d7f-4fdc-88c7-95cba8ca4144",
   "metadata": {},
   "outputs": [
    {
     "name": "stdout",
     "output_type": "stream",
     "text": [
      "\n",
      "VALIDATING CORRECT INPUT (re-run if you messed up the order)\n",
      "Relation A(xRx) is of Order 3,3\n"
     ]
    }
   ],
   "source": [
    "print('\\nVALIDATING CORRECT INPUT (re-run if you messed up the order)')\n",
    "print('Relation A(xRx) is of Order '+r+','+c)"
   ]
  },
  {
   "cell_type": "markdown",
   "id": "0a087bd1-ddec-4185-b5e3-c355522d107f",
   "metadata": {},
   "source": [
    "### Validating order values"
   ]
  },
  {
   "cell_type": "code",
   "execution_count": 144,
   "id": "a3dd84aa-8869-4105-a08d-d4dd16452d31",
   "metadata": {},
   "outputs": [],
   "source": [
    "if(r!=c):\n",
    "    print(f\"Only Square Matrices can represent Equivalence Relations.\")\n",
    "    exit(1);"
   ]
  },
  {
   "cell_type": "markdown",
   "id": "5f09c3d6-e2c1-484a-a3d4-4cd79ee1fe4b",
   "metadata": {},
   "source": [
    "### Defining a function for matrix input"
   ]
  },
  {
   "cell_type": "code",
   "execution_count": 145,
   "id": "86f5cb8e-2186-4949-bc88-b44535aff796",
   "metadata": {},
   "outputs": [],
   "source": [
    "def matrixInput(matrix,r,c):\n",
    "    for i in range(r):         \n",
    "        a =[]\n",
    "        for j in range(c):      \n",
    "             a.append(float(input()))\n",
    "        matrix.append(a)\n",
    "    return matrix"
   ]
  },
  {
   "cell_type": "markdown",
   "id": "dfaf2014-2e7a-4363-b5ff-5d34b9503bc4",
   "metadata": {},
   "source": [
    "### Defining a function for matrix display"
   ]
  },
  {
   "cell_type": "code",
   "execution_count": 146,
   "id": "41a4ca8a-d97e-47b3-a111-411f7ada1645",
   "metadata": {},
   "outputs": [],
   "source": [
    "def matrixDisplay(matrix,r,c):\n",
    "    for i in range(r):\n",
    "        for j in range(c):\n",
    "            print(format(round(matrix[i][j],2),'.2f'), end = \"\\t\")\n",
    "        print()"
   ]
  },
  {
   "cell_type": "markdown",
   "id": "e7162db5-d33b-4f4b-9463-2330ec19fbb8",
   "metadata": {},
   "source": [
    "### Defining a function to check if elements are in [0,1] (Fuzzy Condition)"
   ]
  },
  {
   "cell_type": "code",
   "execution_count": 147,
   "id": "15cd5df8-e114-4a0f-92a5-720c0c7fe91e",
   "metadata": {},
   "outputs": [],
   "source": [
    "def validateElements(matrix,r,c):\n",
    "    for i in range(r): \n",
    "        for j in range(c):\n",
    "            if (matrix[i][j]<0 or matrix[i][j]>1):\n",
    "                return False\n",
    "    return True"
   ]
  },
  {
   "cell_type": "markdown",
   "id": "39c83258-68af-496c-806d-8ef8a4f70b6e",
   "metadata": {},
   "source": [
    "### Defining a function to check if matrix is Reflexive"
   ]
  },
  {
   "cell_type": "code",
   "execution_count": 148,
   "id": "d1b75cb8-c60d-4e0f-a2b2-d2b775a87cf7",
   "metadata": {},
   "outputs": [],
   "source": [
    "def isReflexive(matrix,r,c):\n",
    "    for i in range(r):\n",
    "        if(matrix[i][i]!=1):\n",
    "            return False\n",
    "    return True"
   ]
  },
  {
   "cell_type": "markdown",
   "id": "acedbcd2-4459-4a42-a9c7-e9757bb19d39",
   "metadata": {},
   "source": [
    "### Defining a function to check if matrix is Symmetric"
   ]
  },
  {
   "cell_type": "code",
   "execution_count": 149,
   "id": "ab033016-2008-4e3b-b9bc-58098e0b26d1",
   "metadata": {},
   "outputs": [],
   "source": [
    "def isSymmetric(matrix,r,c):\n",
    "    for i in range(int(r/2)):\n",
    "        for j in range(i+1,c):\n",
    "            if(matrix[i][j]!=matrix[j][i]):\n",
    "                return False\n",
    "    return True"
   ]
  },
  {
   "cell_type": "markdown",
   "id": "8db6dad4-a133-49d7-a8f3-df4dcce380fd",
   "metadata": {},
   "source": [
    "### Defining a function to check if matrix is Transitive"
   ]
  },
  {
   "cell_type": "code",
   "execution_count": 150,
   "id": "2dcb505c-a82e-4457-a320-072f9983be8d",
   "metadata": {},
   "outputs": [],
   "source": [
    "def isTransitive(matrix,r,c):\n",
    "    for p1 in range(0, r):\n",
    "        for p2 in range(0, c):\n",
    "            for p3 in range(0, r):\n",
    "                if p1 != p2 and p2 != p3 and p1!=p3:\n",
    "                    if matrix[p1][p3] < min(matrix[p1][p2], matrix[p2][p3]):\n",
    "                        print(f\"The relation is not transitive at {p1, p2} and {p2,p3}\")\n",
    "                        return False\n",
    "    return True"
   ]
  },
  {
   "cell_type": "markdown",
   "id": "38a29046-4c80-4510-a4e1-8695a4ac930f",
   "metadata": {},
   "source": [
    "### Converting row and column to integer"
   ]
  },
  {
   "cell_type": "code",
   "execution_count": 151,
   "id": "af59b57e-c08d-471a-bbd3-0cc4728413c7",
   "metadata": {},
   "outputs": [],
   "source": [
    "r = int(r)\n",
    "c = int(c)"
   ]
  },
  {
   "cell_type": "markdown",
   "id": "4f50b13b-6fda-4452-ad55-6c6483cd9667",
   "metadata": {},
   "source": [
    "### Initializing Matrix and accepting values from user"
   ]
  },
  {
   "cell_type": "code",
   "execution_count": 152,
   "id": "00e8228f-aeff-4bac-bf8d-f9421157e500",
   "metadata": {},
   "outputs": [
    {
     "name": "stdout",
     "output_type": "stream",
     "text": [
      "Enter the values of A rowwise:\n"
     ]
    },
    {
     "name": "stdin",
     "output_type": "stream",
     "text": [
      " 1\n",
      " .1\n",
      " .2\n",
      " .1\n",
      " 1\n",
      " .1\n",
      " .2\n",
      " .1\n",
      " 1\n"
     ]
    }
   ],
   "source": [
    "# Initialize matrix\n",
    "A = []\n",
    "\n",
    "#Taking user input to populate the matrix\n",
    "print(\"Enter the values of A rowwise:\")\n",
    "A = matrixInput(A,r,c)"
   ]
  },
  {
   "cell_type": "markdown",
   "id": "c179d426-7ffa-4e3f-8821-e87f680c10e7",
   "metadata": {},
   "source": [
    "### Displaying Matrix for validating matrix input"
   ]
  },
  {
   "cell_type": "code",
   "execution_count": 153,
   "id": "5e675439-eb9a-4990-b422-696895a72451",
   "metadata": {},
   "outputs": [
    {
     "name": "stdout",
     "output_type": "stream",
     "text": [
      "\n",
      "VALIDATING CORRECT INPUT (re-run if you messed up the inputs)\n",
      "Relation A(xRx) --> \n",
      "1.00\t0.10\t0.20\t\n",
      "0.10\t1.00\t0.10\t\n",
      "0.20\t0.10\t1.00\t\n"
     ]
    }
   ],
   "source": [
    "print('\\nVALIDATING CORRECT INPUT (re-run if you messed up the inputs)')\n",
    "print('Relation A(xRx) --> ')\n",
    "matrixDisplay(A,r,c)"
   ]
  },
  {
   "cell_type": "markdown",
   "id": "8450c314-60bc-47c1-9fb5-c7b5b1c00940",
   "metadata": {},
   "source": [
    "### Actually validate elements"
   ]
  },
  {
   "cell_type": "code",
   "execution_count": 154,
   "id": "b352b502-ba7b-4b0e-b922-9ec0cffd1b88",
   "metadata": {},
   "outputs": [],
   "source": [
    "if (not(validateElements(A,r,c))):\n",
    "    print('The matrix does not accurately represent Fuzzy Relation.')\n",
    "    print('Try entering values that are in [0,1].')\n",
    "    sys.exit(1)"
   ]
  },
  {
   "cell_type": "markdown",
   "id": "1793d3e3-7282-49a2-8d50-728809b0ca52",
   "metadata": {},
   "source": [
    "### Set boolean variables for each property"
   ]
  },
  {
   "cell_type": "code",
   "execution_count": 155,
   "id": "27c08e67-d799-4fa4-92e1-b6840b8cbbbf",
   "metadata": {},
   "outputs": [],
   "source": [
    "reflexiveVar = isReflexive(A,r,c)\n",
    "symmetricVar = isSymmetric(A,r,c)\n",
    "transitiveVar = isTransitive(A,r,c)"
   ]
  },
  {
   "cell_type": "markdown",
   "id": "bc1abddc-2381-47bb-9c3a-ab66389dd0ee",
   "metadata": {},
   "source": [
    "### Printing the results accordingly"
   ]
  },
  {
   "cell_type": "code",
   "execution_count": 156,
   "id": "3ce9ca58-0219-437c-8ff2-38f96422db8c",
   "metadata": {},
   "outputs": [
    {
     "name": "stdout",
     "output_type": "stream",
     "text": [
      "The given relation is a Fuzzy Equivalence Relation\n"
     ]
    }
   ],
   "source": [
    "if (reflexiveVar and symmetricVar and transitiveVar):\n",
    "    print('The given relation is a Fuzzy Equivalence Relation')\n",
    "if (not(reflexiveVar)):\n",
    "    print('The given relation is a NOT a Reflexive Relation')\n",
    "if (not(symmetricVar)):\n",
    "    print('The given relation is a NOT a Symmetric Relation')"
   ]
  },
  {
   "cell_type": "code",
   "execution_count": null,
   "id": "f396a87d-774d-40f4-8fb3-94cdd7ffa6de",
   "metadata": {},
   "outputs": [],
   "source": []
  }
 ],
 "metadata": {
  "kernelspec": {
   "display_name": "Python 3 (ipykernel)",
   "language": "python",
   "name": "python3"
  },
  "language_info": {
   "codemirror_mode": {
    "name": "ipython",
    "version": 3
   },
   "file_extension": ".py",
   "mimetype": "text/x-python",
   "name": "python",
   "nbconvert_exporter": "python",
   "pygments_lexer": "ipython3",
   "version": "3.9.0"
  }
 },
 "nbformat": 4,
 "nbformat_minor": 5
}
