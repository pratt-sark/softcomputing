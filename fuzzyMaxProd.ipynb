{
 "cells": [
  {
   "cell_type": "markdown",
   "id": "8b77ad36-f299-40fc-b994-3b34c845aecd",
   "metadata": {
    "tags": []
   },
   "source": [
    "# Fuzzy Composition using Max-Product Mechanism"
   ]
  },
  {
   "cell_type": "code",
   "execution_count": 3,
   "id": "72d766a1-ebd6-4f59-85f0-a178c3e663f2",
   "metadata": {},
   "outputs": [],
   "source": [
    "#All imports to be done here\n",
    "import sys"
   ]
  },
  {
   "cell_type": "markdown",
   "id": "7fb1e452-1399-4adb-a36e-9bccd3da42b5",
   "metadata": {},
   "source": [
    "### Accept the order from users"
   ]
  },
  {
   "cell_type": "code",
   "execution_count": 4,
   "id": "18ba0fd8-1fe2-4221-84bf-0068772751fd",
   "metadata": {},
   "outputs": [
    {
     "name": "stdin",
     "output_type": "stream",
     "text": [
      "Enter the order of the relation A(xRy):  2,2\n",
      "Enter the order of the relation B(yRz):  2,3\n"
     ]
    }
   ],
   "source": [
    "r1,c1 = input(\"Enter the order of the relation A(xRy): \").split(',')\n",
    "r2,c2 = input(\"Enter the order of the relation B(yRz): \").split(',')"
   ]
  },
  {
   "cell_type": "markdown",
   "id": "16700f17-bd30-4800-a7d7-157eb401d72f",
   "metadata": {},
   "source": [
    "### Printing order values so that user can check them"
   ]
  },
  {
   "cell_type": "code",
   "execution_count": 5,
   "id": "3a39a5d7-3c4d-47a4-9669-2fae15b5eb13",
   "metadata": {},
   "outputs": [
    {
     "name": "stdout",
     "output_type": "stream",
     "text": [
      "\n",
      "VALIDATING CORRECT INPUT (re-run if you messed up the orders)\n",
      "Relation A(xRy) is of Order 2,2\n",
      "Relation B(yRz) is of Order 2,3\n"
     ]
    }
   ],
   "source": [
    "print('\\nVALIDATING CORRECT INPUT (re-run if you messed up the orders)')\n",
    "print('Relation A(xRy) is of Order '+r1+','+c1)\n",
    "print('Relation B(yRz) is of Order '+r2+','+c2)"
   ]
  },
  {
   "cell_type": "markdown",
   "id": "73336c6e-3a90-4fe5-a3ae-522219534f68",
   "metadata": {},
   "source": [
    "### Checking for composition compatibility"
   ]
  },
  {
   "cell_type": "code",
   "execution_count": 6,
   "id": "72ceeb1c-8843-4a54-a83f-733844f5753d",
   "metadata": {},
   "outputs": [
    {
     "name": "stdout",
     "output_type": "stream",
     "text": [
      "Proceeding for input...\n"
     ]
    }
   ],
   "source": [
    "print('Incompatible orders, cannot perform composition.' if c1!=r2 else 'Proceeding for input...')\n",
    "if c1!=r2:\n",
    "    sys.exit(1)"
   ]
  },
  {
   "cell_type": "markdown",
   "id": "16ecad7e-f29a-415e-9c2b-1e4df9773421",
   "metadata": {},
   "source": [
    "### Defining a function for matrix input"
   ]
  },
  {
   "cell_type": "code",
   "execution_count": 7,
   "id": "22a3e080-f1dc-426e-9653-0d5fae45cd7b",
   "metadata": {},
   "outputs": [],
   "source": [
    "def matrixInput(matrix,r,c):\n",
    "    for i in range(r):         \n",
    "        a =[]\n",
    "        for j in range(c):      \n",
    "             a.append(float(input()))\n",
    "        matrix.append(a)\n",
    "    return matrix"
   ]
  },
  {
   "cell_type": "markdown",
   "id": "113d5d27-697b-4a93-8493-1d8aafb8fe52",
   "metadata": {},
   "source": [
    "### Defining a function for matrix display"
   ]
  },
  {
   "cell_type": "code",
   "execution_count": 20,
   "id": "81429c79-6300-4499-a005-47b949b272b3",
   "metadata": {},
   "outputs": [],
   "source": [
    "def matrixDisplay(matrix,r,c):\n",
    "    for i in range(r):\n",
    "        for j in range(c):\n",
    "            print(format(round(matrix[i][j],2),'.2f'), end = \"\\t\")\n",
    "        print()"
   ]
  },
  {
   "cell_type": "markdown",
   "id": "a5b4075d-bf66-4826-b955-463d566bb9f4",
   "metadata": {},
   "source": [
    "### Defining a function for max-product composition of fuzzy functions"
   ]
  },
  {
   "cell_type": "code",
   "execution_count": 9,
   "id": "4692f079-8495-4a54-8afc-c571950927b6",
   "metadata": {},
   "outputs": [],
   "source": [
    "def maxProdFuzzy(A,B,r,comm,c):\n",
    "    result = [[0 for col in range(c)] for row in range(r)]\n",
    "    for i in range(r): \n",
    "        for j in range(c):\n",
    "            for k in range(comm):\n",
    "                if (k==0):\n",
    "                    result[i][j] = A[i][k]*B[k][j]\n",
    "                else:\n",
    "                    result[i][j] = max(result[i][j],A[i][k]*B[k][j])\n",
    "    return result"
   ]
  },
  {
   "cell_type": "markdown",
   "id": "6979d39e-4851-4055-a2ea-afb83b70a0d0",
   "metadata": {},
   "source": [
    "### Defining a function to check if elements are in [0,1] (Fuzzy Condition)"
   ]
  },
  {
   "cell_type": "code",
   "execution_count": 22,
   "id": "e77fb5ab-2768-43c6-ad28-ecafcd0f149b",
   "metadata": {},
   "outputs": [],
   "source": [
    "def validateElements(matrix,r,c):\n",
    "    for i in range(r): \n",
    "        for j in range(c):\n",
    "            if (matrix[i][j]<0 or matrix[i][j]>1):\n",
    "                return False\n",
    "    return True"
   ]
  },
  {
   "cell_type": "markdown",
   "id": "1baa3416-c01d-41f4-b84f-ae4a9c42da50",
   "metadata": {},
   "source": [
    "### Converting the order values from string to integer:"
   ]
  },
  {
   "cell_type": "code",
   "execution_count": 11,
   "id": "3ca9ff9d-cab3-4576-8d1e-2acf89ab4d00",
   "metadata": {},
   "outputs": [],
   "source": [
    "r1 = int(r1)\n",
    "c1 = int(c1)\n",
    "r2 = int(r2)\n",
    "c2 = int(c2)"
   ]
  },
  {
   "cell_type": "markdown",
   "id": "259d00b4-814e-4900-a91a-b9ebfa43909d",
   "metadata": {},
   "source": [
    "### Initializing and populating matrices from user input:"
   ]
  },
  {
   "cell_type": "code",
   "execution_count": 12,
   "id": "0eeb4738-056a-496b-8fcd-f1145306dfb7",
   "metadata": {},
   "outputs": [
    {
     "name": "stdout",
     "output_type": "stream",
     "text": [
      "Enter the values of A rowwise:\n"
     ]
    },
    {
     "name": "stdin",
     "output_type": "stream",
     "text": [
      " .7\n",
      " .5\n",
      " .8\n",
      " .4\n"
     ]
    },
    {
     "name": "stdout",
     "output_type": "stream",
     "text": [
      "\n",
      "Enter the values of B rowwise:\n"
     ]
    },
    {
     "name": "stdin",
     "output_type": "stream",
     "text": [
      " .9\n",
      " .6\n",
      " .2\n",
      " .1\n",
      " .7\n",
      " .5\n"
     ]
    }
   ],
   "source": [
    "# Initialize matrices\n",
    "A = []\n",
    "B = []\n",
    "\n",
    "#Taking user input to populate the matrices\n",
    "print(\"Enter the values of A rowwise:\")\n",
    "A = matrixInput(A,r1,c1)\n",
    "print(\"\\nEnter the values of B rowwise:\")\n",
    "B = matrixInput(B,r2,c2)"
   ]
  },
  {
   "cell_type": "markdown",
   "id": "f803a726-145c-48cf-b6e1-17e88d41c292",
   "metadata": {},
   "source": [
    "### Printing relation matrices so that user can check them:"
   ]
  },
  {
   "cell_type": "code",
   "execution_count": 13,
   "id": "bce8d905-e7df-4606-9513-7f756a4451d7",
   "metadata": {},
   "outputs": [
    {
     "name": "stdout",
     "output_type": "stream",
     "text": [
      "\n",
      "VALIDATING CORRECT INPUT (re-run if you messed up the inputs)\n",
      "Relation A(xRy) --> \n",
      "0.7\t0.5\t\n",
      "0.8\t0.4\t\n",
      "\n",
      "Relation B(yRz) --> \n",
      "0.9\t0.6\t0.2\t\n",
      "0.1\t0.7\t0.5\t\n"
     ]
    }
   ],
   "source": [
    "print('\\nVALIDATING CORRECT INPUT (re-run if you messed up the inputs)')\n",
    "print('Relation A(xRy) --> ')\n",
    "matrixDisplay(A,r1,c1)\n",
    "print('\\nRelation B(yRz) --> ')\n",
    "matrixDisplay(B,r2,c2)"
   ]
  },
  {
   "cell_type": "markdown",
   "id": "739c8204-24a8-49e3-af13-98ed812209f9",
   "metadata": {},
   "source": [
    "### Check if the matrices indeed represent a Fuzzy Relation:"
   ]
  },
  {
   "cell_type": "code",
   "execution_count": 14,
   "id": "31addd0a-51ce-4ae2-8570-c8b22b44b262",
   "metadata": {},
   "outputs": [],
   "source": [
    "if (not(validateElements(A,r1,c1) and validateElements(B,r2,c2))):\n",
    "    print('One or Both matrices do not accurately represent Fuzzy Relation.')\n",
    "    print('Try entering values that are in [0,1].')\n",
    "    sys.exit(1)"
   ]
  },
  {
   "cell_type": "markdown",
   "id": "fadc1184-7b0a-4d24-89d9-0047c29a41b7",
   "metadata": {},
   "source": [
    "### Compute the relation after Max-Product Composition of A(xRy) and B(yRz):"
   ]
  },
  {
   "cell_type": "code",
   "execution_count": 21,
   "id": "22db2b8a-dca8-4f8f-856c-1415fa8e549f",
   "metadata": {},
   "outputs": [
    {
     "name": "stdout",
     "output_type": "stream",
     "text": [
      "\n",
      "Relation C(xRz) --> \n",
      "0.63\t0.42\t0.25\t\n",
      "0.72\t0.48\t0.20\t\n"
     ]
    }
   ],
   "source": [
    "C = maxProdFuzzy(A,B,r1,r2,c2)\n",
    "print('\\nRelation C(xRz) --> ')\n",
    "matrixDisplay(C,r1,c2)"
   ]
  }
 ],
 "metadata": {
  "kernelspec": {
   "display_name": "Python 3 (ipykernel)",
   "language": "python",
   "name": "python3"
  },
  "language_info": {
   "codemirror_mode": {
    "name": "ipython",
    "version": 3
   },
   "file_extension": ".py",
   "mimetype": "text/x-python",
   "name": "python",
   "nbconvert_exporter": "python",
   "pygments_lexer": "ipython3",
   "version": "3.9.0"
  }
 },
 "nbformat": 4,
 "nbformat_minor": 5
}
