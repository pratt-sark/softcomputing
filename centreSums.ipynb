{
 "cells": [
  {
   "cell_type": "markdown",
   "id": "f681a254-b6e6-4054-933b-8def585b5f09",
   "metadata": {},
   "source": [
    "# Centre of Sums Method Defuzzification"
   ]
  },
  {
   "cell_type": "code",
   "execution_count": 1,
   "id": "57fecddd-dc50-436a-916d-0149e6a3e6e9",
   "metadata": {},
   "outputs": [
    {
     "name": "stdin",
     "output_type": "stream",
     "text": [
      "Enter the number of fuzzy sets:\n",
      " 3\n"
     ]
    }
   ],
   "source": [
    "n = int(input(\"Enter the number of fuzzy sets:\\n\"))\n",
    "elements = []\n",
    "degrees = []"
   ]
  },
  {
   "cell_type": "code",
   "execution_count": 2,
   "id": "0e0a9c2a-4138-45ba-aaa0-ebb58b618db7",
   "metadata": {},
   "outputs": [
    {
     "name": "stdin",
     "output_type": "stream",
     "text": [
      "Enter the elements of set 1(space separated):\n",
      " 0 1 2 3 4 5\n",
      "Enter the degrees of set 1(space separated):\n",
      " 0 0.3 0.3 0.3 0.3 0\n",
      "Enter the elements of set 2(space separated):\n",
      " 3 4 5 6 7\n",
      "Enter the degrees of set 2(space separated):\n",
      " 0 0.5 0.5 0.5 0\n",
      "Enter the elements of set 3(space separated):\n",
      " 5 6 7 8\n",
      "Enter the degrees of set 3(space separated):\n",
      " 0 1 1 0\n"
     ]
    }
   ],
   "source": [
    "for i in range(0, n):\n",
    "    e = [float(i) for i in input(f\"Enter the elements of set {i+1}(space separated):\\n\").split(\" \")]\n",
    "    d = [float(i) for i in input(f\"Enter the degrees of set {i+1}(space separated):\\n\").split(\" \")]\n",
    "    assert(len(e) == len(d))\n",
    "    elements.append(e)\n",
    "    degrees.append(d)"
   ]
  },
  {
   "cell_type": "code",
   "execution_count": 4,
   "id": "6b4b14e0-3477-48b4-918d-edda9063c9c4",
   "metadata": {},
   "outputs": [],
   "source": [
    "STEP = 0.01"
   ]
  },
  {
   "cell_type": "code",
   "execution_count": 5,
   "id": "1f21a183-fd1d-44c0-bfeb-36184c417e96",
   "metadata": {},
   "outputs": [],
   "source": [
    "def y_value(x_val, x2, y2, x1, y1):\n",
    "    slope = float(y2-y1)/(x2-x1)\n",
    "    c = y2 - x2*slope\n",
    "    return (x_val*slope + c)"
   ]
  },
  {
   "cell_type": "code",
   "execution_count": 6,
   "id": "8ca76896-1d10-4cd3-9ffe-a753a6e69aff",
   "metadata": {},
   "outputs": [],
   "source": [
    "def findArea(value1, degree1, value2, degree2):\n",
    "    area = 0.0\n",
    "    x1 = value1\n",
    "    while x1 < value2:\n",
    "        x2 = x1 + STEP\n",
    "        curr_area = (STEP*(y_value(x1, value2, degree2, value1, degree1) + y_value(x2, value2, degree2, value1, degree1))/2)\n",
    "        area += curr_area\n",
    "        x1 += STEP\n",
    "    return area"
   ]
  },
  {
   "cell_type": "code",
   "execution_count": 8,
   "id": "30469d13-79b9-49a8-909d-f3dbb3b2987b",
   "metadata": {},
   "outputs": [],
   "source": [
    "answer = 0.0\n",
    "denom = 0.0\n",
    "for i in range(0, n):\n",
    "    e_list = elements[i]\n",
    "    d_list = degrees[i]\n",
    "    area = 0.0\n",
    "    for j in range(0, len(elements)-1):\n",
    "        area += findArea(e_list[j], d_list[j], e_list[j+1], d_list[j+1])\n",
    "    answer += (area * (sum(e_list)/len(e_list)))\n",
    "    denom += (area)"
   ]
  },
  {
   "cell_type": "code",
   "execution_count": 9,
   "id": "25988c77-b934-4b53-bb98-c9b3271eca06",
   "metadata": {},
   "outputs": [
    {
     "name": "stdout",
     "output_type": "stream",
     "text": [
      "Defuzzified value --->  5.423092772176585\n"
     ]
    }
   ],
   "source": [
    "answer /= denom\n",
    "print(\"Defuzzified value ---> \", answer)"
   ]
  }
 ],
 "metadata": {
  "kernelspec": {
   "display_name": "Python 3 (ipykernel)",
   "language": "python",
   "name": "python3"
  },
  "language_info": {
   "codemirror_mode": {
    "name": "ipython",
    "version": 3
   },
   "file_extension": ".py",
   "mimetype": "text/x-python",
   "name": "python",
   "nbconvert_exporter": "python",
   "pygments_lexer": "ipython3",
   "version": "3.9.0"
  }
 },
 "nbformat": 4,
 "nbformat_minor": 5
}
