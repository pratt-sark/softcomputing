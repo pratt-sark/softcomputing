{
 "cells": [
  {
   "cell_type": "markdown",
   "id": "f681a254-b6e6-4054-933b-8def585b5f09",
   "metadata": {},
   "source": [
    "# Centroid Method Defuzzification"
   ]
  },
  {
   "cell_type": "code",
   "execution_count": 2,
   "id": "57fecddd-dc50-436a-916d-0149e6a3e6e9",
   "metadata": {},
   "outputs": [
    {
     "name": "stdin",
     "output_type": "stream",
     "text": [
      "Enter the number of fuzzy sets:\n",
      " 3\n"
     ]
    }
   ],
   "source": [
    "n = int(input(\"Enter the number of fuzzy sets:\\n\"))\n",
    "union = {}"
   ]
  },
  {
   "cell_type": "code",
   "execution_count": 3,
   "id": "0e0a9c2a-4138-45ba-aaa0-ebb58b618db7",
   "metadata": {},
   "outputs": [
    {
     "name": "stdin",
     "output_type": "stream",
     "text": [
      "Enter the elements of set 1(space separated):\n",
      " 0 1 2 3 4 5\n",
      "Enter the degrees of set 1(space separated):\n",
      " 0 0.3 0.3 0.3 0.3 0\n",
      "Enter the elements of set 2(space separated):\n",
      " 3 4 5 6 7\n",
      "Enter the degrees of set 2(space separated):\n",
      " 0 0.5 0.5 0.5 0\n",
      "Enter the elements of set 3(space separated):\n",
      " 5 6 7 8\n",
      "Enter the degrees of set 3(space separated):\n",
      " 0 1 1 0\n"
     ]
    }
   ],
   "source": [
    "for i in range(0, n):\n",
    "    e = [float(i) for i in input(f\"Enter the elements of set {i+1}(space separated):\\n\").split(\" \")]\n",
    "    d = [float(i) for i in input(f\"Enter the degrees of set {i+1}(space separated):\\n\").split(\" \")]\n",
    "    assert(len(e) == len(d))\n",
    "    for i in range(0, len(e)):\n",
    "        if e[i] in union.keys():\n",
    "            union[e[i]] = max(union[e[i]], d[i])\n",
    "        else:\n",
    "            union[e[i]] = d[i]"
   ]
  },
  {
   "cell_type": "code",
   "execution_count": 16,
   "id": "6b4b14e0-3477-48b4-918d-edda9063c9c4",
   "metadata": {},
   "outputs": [],
   "source": [
    "elements = list(union.keys())\n",
    "degrees = list(union.values())\n",
    "STEP = 0.01"
   ]
  },
  {
   "cell_type": "code",
   "execution_count": 20,
   "id": "1f21a183-fd1d-44c0-bfeb-36184c417e96",
   "metadata": {},
   "outputs": [],
   "source": [
    "def yValue(x_val, x2, y2, x1, y1):\n",
    "    slope = float(y2-y1)/(x2-x1)\n",
    "    c = y2 - x2*slope\n",
    "    return (x_val*slope + c)"
   ]
  },
  {
   "cell_type": "code",
   "execution_count": 21,
   "id": "8ca76896-1d10-4cd3-9ffe-a753a6e69aff",
   "metadata": {},
   "outputs": [],
   "source": [
    "areaXxbar = 0.0\n",
    "area = 0.0\n",
    "for i in range(0, len(elements)-1):\n",
    "    x1 = elements[i]\n",
    "    while x1 < elements[i+1]:\n",
    "        x2 = x1 + STEP\n",
    "        curr_area = (STEP*(yValue(x1, elements[i+1], degrees[i+1], elements[i], degrees[i]) + yValue(x2, elements[i+1], degrees[i+1], elements[i], degrees[i]))/2)\n",
    "        area += curr_area\n",
    "        areaXxbar += (curr_area * ((x1+x2)/2))\n",
    "        x1 += STEP"
   ]
  },
  {
   "cell_type": "code",
   "execution_count": 22,
   "id": "ccebb742-8c74-44dc-bed8-6b23562774e7",
   "metadata": {},
   "outputs": [
    {
     "name": "stdout",
     "output_type": "stream",
     "text": [
      "Defuzzified value --->  4.953986583981413\n"
     ]
    }
   ],
   "source": [
    "print(\"Defuzzified value ---> \", areaXxbar/area)"
   ]
  }
 ],
 "metadata": {
  "kernelspec": {
   "display_name": "Python 3 (ipykernel)",
   "language": "python",
   "name": "python3"
  },
  "language_info": {
   "codemirror_mode": {
    "name": "ipython",
    "version": 3
   },
   "file_extension": ".py",
   "mimetype": "text/x-python",
   "name": "python",
   "nbconvert_exporter": "python",
   "pygments_lexer": "ipython3",
   "version": "3.9.0"
  }
 },
 "nbformat": 4,
 "nbformat_minor": 5
}
