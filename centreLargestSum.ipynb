{
 "cells": [
  {
   "cell_type": "markdown",
   "id": "072d32cf-f67d-428f-9a6a-4056aa061358",
   "metadata": {},
   "source": [
    "# Centre of Largest Sum Method Defuzzification"
   ]
  },
  {
   "cell_type": "code",
   "execution_count": 1,
   "id": "33949cf5-3f7a-4b9d-8d18-0283970108e5",
   "metadata": {},
   "outputs": [
    {
     "name": "stdin",
     "output_type": "stream",
     "text": [
      "Enter the number of fuzzy sets:\n",
      " 3\n"
     ]
    }
   ],
   "source": [
    "n = int(input(\"Enter the number of fuzzy sets:\\n\"))\n",
    "elements = []\n",
    "degrees = []\n",
    "STEP = 0.08"
   ]
  },
  {
   "cell_type": "code",
   "execution_count": 2,
   "id": "3e739360-add5-4690-b9e8-f529a30f50ed",
   "metadata": {},
   "outputs": [
    {
     "name": "stdin",
     "output_type": "stream",
     "text": [
      "Enter the elements of set 1(space separated):\n",
      " 0 1 2 3 4 5\n",
      "Enter the degrees of set 1(space separated):\n",
      " 0 0.3 0.3 0.3 0.3 0\n",
      "Enter the elements of set 2(space separated):\n",
      " 3 4 5 6 7\n",
      "Enter the degrees of set 2(space separated):\n",
      " 0 0.5 0.5 0.5 0\n",
      "Enter the elements of set 3(space separated):\n",
      " 5 6 7 8\n",
      "Enter the degrees of set 3(space separated):\n",
      " 0 1 1 0\n"
     ]
    }
   ],
   "source": [
    "for i in range(0, n):\n",
    "    e = [float(i) for i in input(f\"Enter the elements of set {i+1}(space separated):\\n\").split(\" \")]\n",
    "    d = [float(i) for i in input(f\"Enter the degrees of set {i+1}(space separated):\\n\").split(\" \")]\n",
    "    assert(len(e) == len(d))\n",
    "    elements.append(e)\n",
    "    degrees.append(d)"
   ]
  },
  {
   "cell_type": "code",
   "execution_count": 3,
   "id": "25794631-5404-4443-afbb-5f84ff1c1c35",
   "metadata": {},
   "outputs": [],
   "source": [
    "def yValue(x_val, x2, y2, x1, y1):\n",
    "    slope = float(y2-y1)/(x2-x1)\n",
    "    c = y2 - x2*slope\n",
    "    return (x_val*slope + c)"
   ]
  },
  {
   "cell_type": "code",
   "execution_count": 4,
   "id": "bd71f137-f0ee-47a6-ba3d-18ebf9a48662",
   "metadata": {},
   "outputs": [],
   "source": [
    "def findArea(value1, degree1, value2, degree2):\n",
    "    area = 0.0\n",
    "    x1 = value1\n",
    "    while x1 < value2:\n",
    "        x2 = x1 + STEP\n",
    "        curr_area = (STEP*(yValue(x1, value2, degree2, value1, degree1) + yValue(x2, value2, degree2, value1, degree1))/2)\n",
    "        area += curr_area\n",
    "        x1 += STEP\n",
    "    return area"
   ]
  },
  {
   "cell_type": "code",
   "execution_count": 5,
   "id": "4dfbc25c-75f9-4f80-9518-3470b3a0714f",
   "metadata": {},
   "outputs": [],
   "source": [
    "index = 0\n",
    "store = -1\n",
    "for i in range(0, n):\n",
    "    e_list = elements[i]\n",
    "    d_list = degrees[i]\n",
    "    area = 0.0\n",
    "    for j in range(0, len(e_list)-1):\n",
    "        area += findArea(e_list[j], d_list[j], e_list[j+1], d_list[j+1])\n",
    "    if store < area:\n",
    "        store = area\n",
    "        index = i"
   ]
  },
  {
   "cell_type": "code",
   "execution_count": 7,
   "id": "e5529b48-1565-4796-b3a1-723ccf8cb827",
   "metadata": {},
   "outputs": [
    {
     "name": "stdout",
     "output_type": "stream",
     "text": [
      "Defuzzified value --->  6.5\n"
     ]
    }
   ],
   "source": [
    "val = sum((elements[index])) / len(elements[index])\n",
    "print(\"Defuzzified value ---> \", val)"
   ]
  }
 ],
 "metadata": {
  "kernelspec": {
   "display_name": "Python 3 (ipykernel)",
   "language": "python",
   "name": "python3"
  },
  "language_info": {
   "codemirror_mode": {
    "name": "ipython",
    "version": 3
   },
   "file_extension": ".py",
   "mimetype": "text/x-python",
   "name": "python",
   "nbconvert_exporter": "python",
   "pygments_lexer": "ipython3",
   "version": "3.9.0"
  }
 },
 "nbformat": 4,
 "nbformat_minor": 5
}
